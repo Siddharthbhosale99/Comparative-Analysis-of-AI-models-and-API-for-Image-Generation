{
 "cells": [
  {
   "cell_type": "code",
   "execution_count": null,
   "metadata": {},
   "outputs": [],
   "source": [
    "import pandas as pd\n",
    "import random\n",
    "from together import Together\n",
    "from PIL import Image\n",
    "from io import BytesIO\n",
    "import base64"
   ]
  },
  {
   "cell_type": "code",
   "execution_count": null,
   "metadata": {},
   "outputs": [],
   "source": [
    "# API key and file path\n",
    "api_key = '0b9f0616b9fe680ac4572e996c3994fc75789e5254b664174babd3a081459f95'\n",
    "csv_file_path = r'C:\\Users\\siddh\\Downloads\\Case_Study_2\\generated_prompts.csv'\n",
    "\n",
    "# Initialize client\n",
    "client = Together(api_key=api_key)"
   ]
  },
  {
   "cell_type": "code",
   "execution_count": null,
   "metadata": {},
   "outputs": [],
   "source": [
    "def read_prompts_from_csv(file_path, column_name='Prompt'):\n",
    "    df = pd.read_csv(file_path)\n",
    "    prompts = df[column_name].tolist()\n",
    "    return prompts\n",
    "def select_random_prompt(prompts):\n",
    "    return random.choice(prompts)"
   ]
  },
  {
   "cell_type": "code",
   "execution_count": null,
   "metadata": {},
   "outputs": [],
   "source": [
    "def generate_image(prompt, seed):\n",
    "    response = client.images.generate(\n",
    "        prompt=prompt,\n",
    "        model=\"stabilityai/stable-diffusion-2-1\",\n",
    "        width=512,\n",
    "        height=512,\n",
    "        steps=20,\n",
    "        n=1,\n",
    "        seed=seed\n",
    "    )\n",
    "    return response.data"
   ]
  },
  {
   "cell_type": "code",
   "execution_count": null,
   "metadata": {},
   "outputs": [],
   "source": [
    "def decode_images(image_data_list):\n",
    "    images = []\n",
    "    for idx, image_data in enumerate(image_data_list):\n",
    "        img_data = base64.b64decode(image_data.b64_json)\n",
    "        image = Image.open(BytesIO(img_data))\n",
    "        images.append(image)\n",
    "        if idx == 0:  # Display only the first image\n",
    "            image.show(title=\"First Generated Image\")\n",
    "    return images"
   ]
  },
  {
   "cell_type": "code",
   "execution_count": null,
   "metadata": {},
   "outputs": [],
   "source": [
    "def process_image(image, random_prompt):\n",
    "    return random_prompt\n",
    "\n",
    "def show_images_side_by_side(images1, images2, titles):\n",
    "    for i, (img1, img2) in enumerate(zip(images1, images2)):\n",
    "        combined_width = img1.width + img2.width\n",
    "        combined_height = max(img1.height, img2.height)\n",
    "        new_image = Image.new('RGB', (combined_width, combined_height))\n",
    "\n",
    "        new_image.paste(img1, (0, 0))\n",
    "        new_image.paste(img2, (img1.width, 0))\n",
    "\n",
    "        new_image.show(title=f\"Comparison {titles[i]}\")"
   ]
  },
  {
   "cell_type": "code",
   "execution_count": null,
   "metadata": {},
   "outputs": [],
   "source": [
    "# Read prompts from the CSV file\n",
    "prompts = read_prompts_from_csv(csv_file_path)\n",
    "\n",
    "# Select a random prompt\n",
    "random_prompt = select_random_prompt(prompts)"
   ]
  },
  {
   "cell_type": "code",
   "execution_count": null,
   "metadata": {},
   "outputs": [],
   "source": [
    "print(random_prompt)"
   ]
  },
  {
   "cell_type": "code",
   "execution_count": null,
   "metadata": {},
   "outputs": [],
   "source": [
    "# Generate images for the initial random prompt\n",
    "initial_images_data = generate_image(random_prompt, seed=3930)\n",
    "initial_images = decode_images(initial_images_data)"
   ]
  },
  {
   "cell_type": "code",
   "execution_count": null,
   "metadata": {},
   "outputs": [],
   "source": [
    "# Process images with the random prompt\n",
    "processed_prompt = process_image(initial_images[0], random_prompt)"
   ]
  },
  {
   "cell_type": "code",
   "execution_count": null,
   "metadata": {},
   "outputs": [],
   "source": [
    "\n",
    "# Generate new images based on the processed prompt\n",
    "final_images_data = generate_image(processed_prompt, seed=3931)\n",
    "final_images = decode_images(final_images_data)\n"
   ]
  },
  {
   "cell_type": "code",
   "execution_count": null,
   "metadata": {},
   "outputs": [],
   "source": [
    "# Show the initial and final images side by side\n",
    "show_images_side_by_side(initial_images, final_images, titles=['Initial', 'Final'])\n"
   ]
  }
 ],
 "metadata": {
  "kernelspec": {
   "display_name": "Python 3",
   "language": "python",
   "name": "python3"
  },
  "language_info": {
   "codemirror_mode": {
    "name": "ipython",
    "version": 3
   },
   "file_extension": ".py",
   "mimetype": "text/x-python",
   "name": "python",
   "nbconvert_exporter": "python",
   "pygments_lexer": "ipython3",
   "version": "3.11.4"
  }
 },
 "nbformat": 4,
 "nbformat_minor": 2
}
