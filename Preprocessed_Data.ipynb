{
 "cells": [
  {
   "cell_type": "code",
   "execution_count": 1,
   "metadata": {},
   "outputs": [
    {
     "name": "stdout",
     "output_type": "stream",
     "text": [
      "Requirement already satisfied: pandas in c:\\users\\siddh\\downloads\\case_study_2\\.venv\\lib\\site-packages (2.2.2)\n",
      "Requirement already satisfied: nltk in c:\\users\\siddh\\downloads\\case_study_2\\.venv\\lib\\site-packages (3.8.1)\n",
      "Requirement already satisfied: textblob in c:\\users\\siddh\\downloads\\case_study_2\\.venv\\lib\\site-packages (0.18.0.post0)\n",
      "Requirement already satisfied: tqdm in c:\\users\\siddh\\downloads\\case_study_2\\.venv\\lib\\site-packages (4.66.4)\n",
      "Requirement already satisfied: numpy>=1.23.2 in c:\\users\\siddh\\downloads\\case_study_2\\.venv\\lib\\site-packages (from pandas) (2.0.0)\n",
      "Requirement already satisfied: python-dateutil>=2.8.2 in c:\\users\\siddh\\downloads\\case_study_2\\.venv\\lib\\site-packages (from pandas) (2.9.0.post0)\n",
      "Requirement already satisfied: pytz>=2020.1 in c:\\users\\siddh\\downloads\\case_study_2\\.venv\\lib\\site-packages (from pandas) (2024.1)\n",
      "Requirement already satisfied: tzdata>=2022.7 in c:\\users\\siddh\\downloads\\case_study_2\\.venv\\lib\\site-packages (from pandas) (2024.1)\n",
      "Requirement already satisfied: click in c:\\users\\siddh\\downloads\\case_study_2\\.venv\\lib\\site-packages (from nltk) (8.1.7)\n",
      "Requirement already satisfied: joblib in c:\\users\\siddh\\downloads\\case_study_2\\.venv\\lib\\site-packages (from nltk) (1.4.2)\n",
      "Requirement already satisfied: regex>=2021.8.3 in c:\\users\\siddh\\downloads\\case_study_2\\.venv\\lib\\site-packages (from nltk) (2024.5.15)\n",
      "Requirement already satisfied: colorama in c:\\users\\siddh\\downloads\\case_study_2\\.venv\\lib\\site-packages (from tqdm) (0.4.6)\n",
      "Requirement already satisfied: six>=1.5 in c:\\users\\siddh\\downloads\\case_study_2\\.venv\\lib\\site-packages (from python-dateutil>=2.8.2->pandas) (1.16.0)\n",
      "Note: you may need to restart the kernel to use updated packages.\n"
     ]
    }
   ],
   "source": [
    "pip install pandas nltk textblob tqdm\n"
   ]
  },
  {
   "cell_type": "code",
   "execution_count": 2,
   "metadata": {},
   "outputs": [],
   "source": [
    "import pandas as pd\n",
    "import re\n",
    "from nltk.tokenize import word_tokenize\n",
    "from nltk.corpus import stopwords\n",
    "from nltk.stem import WordNetLemmatizer\n",
    "from textblob import TextBlob\n",
    "from tqdm import tqdm\n"
   ]
  },
  {
   "cell_type": "code",
   "execution_count": 3,
   "metadata": {},
   "outputs": [
    {
     "name": "stderr",
     "output_type": "stream",
     "text": [
      "[nltk_data] Downloading package punkt to\n",
      "[nltk_data]     C:\\Users\\siddh\\AppData\\Roaming\\nltk_data...\n",
      "[nltk_data]   Package punkt is already up-to-date!\n",
      "[nltk_data] Downloading package stopwords to\n",
      "[nltk_data]     C:\\Users\\siddh\\AppData\\Roaming\\nltk_data...\n",
      "[nltk_data]   Package stopwords is already up-to-date!\n",
      "[nltk_data] Downloading package wordnet to\n",
      "[nltk_data]     C:\\Users\\siddh\\AppData\\Roaming\\nltk_data...\n",
      "[nltk_data]   Package wordnet is already up-to-date!\n"
     ]
    },
    {
     "data": {
      "text/plain": [
       "True"
      ]
     },
     "execution_count": 3,
     "metadata": {},
     "output_type": "execute_result"
    }
   ],
   "source": [
    "# Ensure necessary NLTK data is downloaded\n",
    "import nltk\n",
    "nltk.download('punkt')\n",
    "nltk.download('stopwords')\n",
    "nltk.download('wordnet')"
   ]
  },
  {
   "cell_type": "code",
   "execution_count": 4,
   "metadata": {},
   "outputs": [
    {
     "name": "stderr",
     "output_type": "stream",
     "text": [
      "Processing Sentences: 100%|██████████| 17656/17656 [1:09:41<00:00,  4.22it/s]\n"
     ]
    },
    {
     "name": "stdout",
     "output_type": "stream",
     "text": [
      "Preprocessing complete. Cleaned sentences saved to 'Preprocessed_prompts.csv'\n"
     ]
    }
   ],
   "source": [
    "def read_sentences_from_csv(file_path):\n",
    "    df = pd.read_csv(file_path, header=None)\n",
    "    return df[0].tolist()\n",
    "\n",
    "def correct_spelling(sentence):\n",
    "    return str(TextBlob(sentence).correct())\n",
    "\n",
    "def preprocess_sentence(sentence, lemmatizer, stop_words):\n",
    "    # Correct spelling\n",
    "    sentence = correct_spelling(sentence)\n",
    "    \n",
    "    # Lowercase\n",
    "    sentence = sentence.lower()\n",
    "    \n",
    "    # Remove special characters\n",
    "    sentence = re.sub(r'[^a-zA-Z0-9\\s]', '', sentence)\n",
    "    \n",
    "    # Tokenization\n",
    "    tokens = word_tokenize(sentence)\n",
    "    \n",
    "    # Stop words removal\n",
    "    tokens = [word for word in tokens if word not in stop_words]\n",
    "    \n",
    "    # Lemmatization\n",
    "    tokens = [lemmatizer.lemmatize(word) for word in tokens]\n",
    "    \n",
    "    # Remove short tokens\n",
    "    tokens = [word for word in tokens if len(word) > 2]\n",
    "    \n",
    "    return ' '.join(tokens)  # Join tokens back to sentence\n",
    "\n",
    "def preprocess_sentences(sentences):\n",
    "    lemmatizer = WordNetLemmatizer()\n",
    "    stop_words = set(stopwords.words('english'))\n",
    "    cleaned_sentences = []\n",
    "    \n",
    "    for sentence in tqdm(sentences, desc=\"Processing Sentences\"):\n",
    "        cleaned_sentence = preprocess_sentence(sentence, lemmatizer, stop_words)\n",
    "        cleaned_sentences.append(cleaned_sentence)\n",
    "    \n",
    "    # Remove duplicates\n",
    "    return list(set(cleaned_sentences))\n",
    "\n",
    "# Read and preprocess sentences from the specified CSV file\n",
    "file_path = 'Prompts_Generator_2.csv'\n",
    "sentences = read_sentences_from_csv(file_path)\n",
    "cleaned_sentences = preprocess_sentences(sentences)\n",
    "\n",
    "# Create a DataFrame with the cleaned sentences\n",
    "final_df = pd.DataFrame(cleaned_sentences, columns=['cleaned_sentence'])\n",
    "\n",
    "# Write the cleaned sentences to a new CSV file\n",
    "final_df.to_csv('Preprocessed_prompts.csv', index=False)\n",
    "\n",
    "print(\"Preprocessing complete. Cleaned sentences saved to 'Preprocessed_prompts.csv'\")\n"
   ]
  },
  {
   "cell_type": "code",
   "execution_count": 6,
   "metadata": {},
   "outputs": [
    {
     "name": "stderr",
     "output_type": "stream",
     "text": [
      "[nltk_data] Downloading package punkt to\n",
      "[nltk_data]     C:\\Users\\siddh\\AppData\\Roaming\\nltk_data...\n",
      "[nltk_data]   Package punkt is already up-to-date!\n",
      "[nltk_data] Downloading package stopwords to\n",
      "[nltk_data]     C:\\Users\\siddh\\AppData\\Roaming\\nltk_data...\n",
      "[nltk_data]   Package stopwords is already up-to-date!\n",
      "[nltk_data] Downloading package wordnet to\n",
      "[nltk_data]     C:\\Users\\siddh\\AppData\\Roaming\\nltk_data...\n",
      "[nltk_data]   Package wordnet is already up-to-date!\n"
     ]
    },
    {
     "data": {
      "text/plain": [
       "True"
      ]
     },
     "execution_count": 6,
     "metadata": {},
     "output_type": "execute_result"
    }
   ],
   "source": [
    "# Ensure necessary NLTK data is downloaded\n",
    "import nltk\n",
    "nltk.download('punkt')\n",
    "nltk.download('stopwords')\n",
    "nltk.download('wordnet')"
   ]
  },
  {
   "cell_type": "code",
   "execution_count": 7,
   "metadata": {},
   "outputs": [
    {
     "name": "stderr",
     "output_type": "stream",
     "text": [
      "Processing Sentences: 100%|██████████| 17656/17656 [00:03<00:00, 4426.58it/s]"
     ]
    },
    {
     "name": "stdout",
     "output_type": "stream",
     "text": [
      "Preprocessing complete. Cleaned sentences saved to 'final_prompts.csv'\n"
     ]
    },
    {
     "name": "stderr",
     "output_type": "stream",
     "text": [
      "\n"
     ]
    }
   ],
   "source": [
    "\n",
    "def read_sentences_from_csv(file_path):\n",
    "    df = pd.read_csv(file_path, header=None)\n",
    "    return df[0].tolist()\n",
    "\n",
    "def preprocess_sentence(sentence, lemmatizer, stop_words):\n",
    "    sentence = sentence.lower()  # Lowercase\n",
    "    sentence = re.sub(r'[^a-zA-Z0-9\\s]', '', sentence)  # Remove special characters\n",
    "    tokens = word_tokenize(sentence)  # Tokenization\n",
    "    tokens = [word for word in tokens if word not in stop_words]  # Stop words removal\n",
    "    tokens = [lemmatizer.lemmatize(word) for word in tokens]  # Lemmatization\n",
    "    tokens = [word for word in tokens if len(word) > 2]  # Remove short tokens\n",
    "    return ' '.join(tokens)  # Join tokens back to sentence\n",
    "\n",
    "def preprocess_sentences(sentences):\n",
    "    lemmatizer = WordNetLemmatizer()\n",
    "    stop_words = set(stopwords.words('english'))\n",
    "    cleaned_sentences = []\n",
    "    \n",
    "    for sentence in tqdm(sentences, desc=\"Processing Sentences\"):\n",
    "        cleaned_sentence = preprocess_sentence(sentence, lemmatizer, stop_words)\n",
    "        cleaned_sentences.append(cleaned_sentence)\n",
    "    \n",
    "    # Remove duplicates\n",
    "    return list(set(cleaned_sentences))\n",
    "\n",
    "# Read and preprocess sentences from the specified CSV file\n",
    "file_path = 'Prompts_Generator_2.csv'\n",
    "sentences = read_sentences_from_csv(file_path)\n",
    "cleaned_sentences = preprocess_sentences(sentences)\n",
    "\n",
    "# Create a DataFrame with the cleaned sentences\n",
    "final_df = pd.DataFrame(cleaned_sentences, columns=['cleaned_sentence'])\n",
    "\n",
    "# Write the cleaned sentences to a new CSV file\n",
    "final_df.to_csv('final_prompts.csv', index=False)\n",
    "\n",
    "print(\"Preprocessing complete. Cleaned sentences saved to 'final_prompts.csv'\")\n"
   ]
  }
 ],
 "metadata": {
  "kernelspec": {
   "display_name": ".venv",
   "language": "python",
   "name": "python3"
  },
  "language_info": {
   "codemirror_mode": {
    "name": "ipython",
    "version": 3
   },
   "file_extension": ".py",
   "mimetype": "text/x-python",
   "name": "python",
   "nbconvert_exporter": "python",
   "pygments_lexer": "ipython3",
   "version": "3.11.4"
  }
 },
 "nbformat": 4,
 "nbformat_minor": 2
}
